{
 "cells": [
  {
   "cell_type": "markdown",
   "id": "d896f0d0",
   "metadata": {},
   "source": [
    "# Revision - Extract difficult frames\n",
    "\n",
    "As recommended by the reviewer let me inspect the project video and extract examples where the pipeline performs bad."
   ]
  },
  {
   "cell_type": "code",
   "execution_count": 1,
   "id": "e162790f",
   "metadata": {},
   "outputs": [],
   "source": [
    "import cv2\n",
    "import matplotlib.pyplot as plt\n",
    "import ipywidgets as widgets"
   ]
  },
  {
   "cell_type": "code",
   "execution_count": 2,
   "id": "b914e558",
   "metadata": {},
   "outputs": [],
   "source": [
    "# Extract all frames from the video\n",
    "\n",
    "def extract_all_frames(path_video):\n",
    "    cap = cv2.VideoCapture(path_video)\n",
    "    frames = []\n",
    "    while cap.isOpened():\n",
    "        ret, frame = cap.read()\n",
    "        if not ret:\n",
    "            break\n",
    "        frame = cv2.cvtColor(frame, cv2.COLOR_BGR2RGB)\n",
    "        frames.append(frame)\n",
    "    return frames"
   ]
  },
  {
   "cell_type": "code",
   "execution_count": 3,
   "id": "32669684",
   "metadata": {},
   "outputs": [
    {
     "data": {
      "text/plain": [
       "(1260, 1260)"
      ]
     },
     "execution_count": 3,
     "metadata": {},
     "output_type": "execute_result"
    }
   ],
   "source": [
    "frames_out = extract_all_frames('project_video_out.mp4')\n",
    "frames_in = extract_all_frames('project_video.mp4')\n",
    "len(frames_in), len(frames_out)"
   ]
  },
  {
   "cell_type": "code",
   "execution_count": 4,
   "id": "33765f10",
   "metadata": {},
   "outputs": [
    {
     "data": {
      "application/vnd.jupyter.widget-view+json": {
       "model_id": "f12069658cff4f599e447c832f24ec5f",
       "version_major": 2,
       "version_minor": 0
      },
      "text/plain": [
       "interactive(children=(BoundedIntText(value=0, description='pos', max=1259), Output()), _dom_classes=('widget-i…"
      ]
     },
     "metadata": {},
     "output_type": "display_data"
    }
   ],
   "source": [
    "@widgets.interact(\n",
    "    pos=widgets.BoundedIntText(value=0, min=0, max=(len(frames_in) - 1), step=1)\n",
    ")\n",
    "def show_frame(pos):\n",
    "    img_in = frames_in[pos]\n",
    "    img_out = frames_out[pos]\n",
    "    plt.figure(figsize=(18, 8))\n",
    "    plt.subplot(121)\n",
    "    plt.imshow(img_in)\n",
    "    plt.axis('off')\n",
    "    plt.title(f\"Input -{pos}\")\n",
    "    plt.subplot(122)\n",
    "    plt.imshow(img_out)\n",
    "    plt.axis('off')\n",
    "    plt.title(f\"Output - {pos}\")\n",
    "    plt.tight_layout()"
   ]
  },
  {
   "cell_type": "code",
   "execution_count": 5,
   "id": "b008a44e",
   "metadata": {},
   "outputs": [],
   "source": [
    "BAD_IDXS_ALL = [585, 589, 990, 995, 1036, 1045, 1046]\n",
    "BAD_IDXS = [589, 990, 1036, 1045]"
   ]
  },
  {
   "cell_type": "code",
   "execution_count": 6,
   "id": "d8956eca",
   "metadata": {},
   "outputs": [],
   "source": [
    "# add bad original images to test_folder, with pipeline output to example\n",
    "\n",
    "for i in BAD_IDXS:\n",
    "    img = frames_in[i]\n",
    "    img = cv2.cvtColor(img, cv2.COLOR_RGB2BGR)\n",
    "    cv2.imwrite(f\"./test_images/difficult_frame_{i}.jpg\", img)\n",
    "    img = frames_out[i]\n",
    "    img = cv2.cvtColor(img, cv2.COLOR_RGB2BGR)\n",
    "    cv2.imwrite(f\"./examples/bad_output_frame_{i}.jpg\", img)"
   ]
  },
  {
   "cell_type": "code",
   "execution_count": null,
   "id": "c3cca8db",
   "metadata": {},
   "outputs": [],
   "source": []
  }
 ],
 "metadata": {
  "kernelspec": {
   "display_name": "Python 3",
   "language": "python",
   "name": "python3"
  },
  "language_info": {
   "codemirror_mode": {
    "name": "ipython",
    "version": 3
   },
   "file_extension": ".py",
   "mimetype": "text/x-python",
   "name": "python",
   "nbconvert_exporter": "python",
   "pygments_lexer": "ipython3",
   "version": "3.6.13"
  }
 },
 "nbformat": 4,
 "nbformat_minor": 5
}
